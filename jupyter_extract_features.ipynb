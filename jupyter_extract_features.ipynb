{
 "cells": [
  {
   "cell_type": "code",
   "execution_count": 1,
   "metadata": {},
   "outputs": [
    {
     "name": "stderr",
     "output_type": "stream",
     "text": [
      "Using TensorFlow backend.\n"
     ]
    }
   ],
   "source": [
    "import warnings\n",
    "warnings.simplefilter(action=\"ignore\", category=FutureWarning)\n",
    "\n",
    "# keras imports\n",
    "from keras.applications.vgg16 import VGG16, preprocess_input\n",
    "from keras.applications.vgg19 import VGG19, preprocess_input\n",
    "from keras.applications.xception import Xception, preprocess_input\n",
    "from keras.applications.resnet50 import ResNet50, preprocess_input\n",
    "from keras.applications.inception_v3 import InceptionV3, preprocess_input\n",
    "from keras.preprocessing import image\n",
    "from keras.models import Model\n",
    "from keras.models import model_from_json\n",
    "\n",
    "# other imports\n",
    "from sklearn.preprocessing import LabelEncoder\n",
    "import numpy as np\n",
    "import glob\n",
    "#import cv2\n",
    "import h5py\n",
    "import os\n",
    "import json\n",
    "import pickle\n",
    "import datetime\n",
    "import time"
   ]
  },
  {
   "cell_type": "code",
   "execution_count": 2,
   "metadata": {},
   "outputs": [
    {
     "data": {
      "text/plain": [
       "'1.2.1'"
      ]
     },
     "execution_count": 2,
     "metadata": {},
     "output_type": "execute_result"
    }
   ],
   "source": [
    "import tensorflow as tf\n",
    "tf.__version__"
   ]
  },
  {
   "cell_type": "code",
   "execution_count": 3,
   "metadata": {},
   "outputs": [
    {
     "name": "stdout",
     "output_type": "stream",
     "text": [
      "Available kernels:\n",
      "  python3    C:\\Users\\hj5446\\AppData\\Local\\Continuum\\Anaconda3\\envs\\frac_detect\\share\\jupyter\\kernels\\python3\n"
     ]
    },
    {
     "data": {
      "text/plain": [
       "'C:\\\\Users\\\\hj5446\\\\AppData\\\\Local\\\\Continuum\\\\Anaconda3\\\\envs\\\\frac_detect\\\\python.exe'"
      ]
     },
     "execution_count": 3,
     "metadata": {},
     "output_type": "execute_result"
    }
   ],
   "source": [
    "!jupyter kernelspec list\n",
    "import sys\n",
    "sys.executable"
   ]
  },
  {
   "cell_type": "code",
   "execution_count": 4,
   "metadata": {},
   "outputs": [
    {
     "name": "stdout",
     "output_type": "stream",
     "text": [
      "model_name xception. features_path output/flowers_17/xception/features.h5\n"
     ]
    }
   ],
   "source": [
    "# filter warnings\n",
    "# load the user configs\n",
    "with open('conf/conf_xception.json') as f:    \n",
    "    config = json.load(f)\n",
    "# config variables\n",
    "model_name = config[\"model\"]\n",
    "weights = config[\"weights\"]\n",
    "include_top = config[\"include_top\"]\n",
    "train_path = config[\"train_path\"]\n",
    "features_path = config[\"features_path\"]\n",
    "labels_path = config[\"labels_path\"]\n",
    "test_size = config[\"test_size\"]\n",
    "results = config[\"results\"]\n",
    "model_path = config[\"model_path\"]\n",
    "#weights_path = config[\"weights_path\"]\n",
    "print('model_name {}. features_path {}'.format(model_name, features_path))"
   ]
  },
  {
   "cell_type": "code",
   "execution_count": 6,
   "metadata": {},
   "outputs": [
    {
     "name": "stdout",
     "output_type": "stream",
     "text": [
      "[STATUS] start time - 2017-11-16 12:53\n",
      "[INFO] successfully loaded base model and model...\n"
     ]
    },
    {
     "name": "stderr",
     "output_type": "stream",
     "text": [
      "C:\\Users\\hj5446\\AppData\\Local\\Continuum\\Anaconda3\\envs\\frac_detect\\lib\\site-packages\\ipykernel_launcher.py:28: UserWarning: Update your `Model` call to the Keras 2 API: `Model(inputs=Tensor(\"in..., outputs=Tensor(\"av...)`\n"
     ]
    }
   ],
   "source": [
    "# start time\n",
    "print(\"[STATUS] start time - {}\".format(datetime.datetime.now().strftime(\"%Y-%m-%d %H:%M\")))\n",
    "start = time.time()\n",
    "\n",
    "# create the pretrained models\n",
    "# check for pretrained weight usage or not\n",
    "# check for top layers to be included or not\n",
    "\n",
    "if model_name == \"vgg16\":\n",
    "    base_model = VGG16(weights=weights)\n",
    "    model = Model(input=base_model.input, output=base_model.get_layer('fc1').output)\n",
    "    image_size = (224, 224)\n",
    "elif model_name == \"vgg19\":\n",
    "    base_model = VGG19(weights=weights)\n",
    "    model = Model(input=base_model.input, output=base_model.get_layer('fc1').output)\n",
    "    image_size = (224, 224)\n",
    "elif model_name == \"resnet50\":\n",
    "    base_model = ResNet50(weights=weights)\n",
    "    model = Model(input=base_model.input, output=base_model.get_layer('flatten').output)\n",
    "    image_size = (224, 224)\n",
    "elif model_name == \"inceptionv3\":\n",
    "    base_model = InceptionV3(weights=weights)\n",
    "    model = Model(input=base_model.input, output=base_model.get_layer('avg_pool').output) # this is correct\n",
    "    #model = Model(input=base_model.input, output=base_model.get_layer('Dense').output)\n",
    "    image_size = (299, 299)\n",
    "elif model_name == \"xception\":\n",
    "    base_model = Xception(weights=weights)\n",
    "    model = Model(input=base_model.input, output=base_model.get_layer('avg_pool').output)\n",
    "    image_size = (299, 299)\n",
    "else:\n",
    "    base_model = None\n",
    "\n",
    "print(\"[INFO] successfully loaded base model and model...\")"
   ]
  },
  {
   "cell_type": "code",
   "execution_count": 7,
   "metadata": {},
   "outputs": [
    {
     "name": "stdout",
     "output_type": "stream",
     "text": [
      "i0,file image_0001.jpg, label 1\n",
      "i10,i20,i30,i40,i50,i60,i70,i80,file image_0081.jpg, label 2\n",
      "i90,i100,i110,i120,i130,i140,i150,i160,file image_0161.jpg, label 3\n",
      "i170,i180,i190,i200,i210,i220,i230,i240,file image_0241.jpg, label 4\n",
      "i250,i260,i270,i280,i290,i300,i310,i320,file image_0321.jpg, label 5\n",
      "i330,i340,i350,i360,i370,i380,i390,i400,file image_0401.jpg, label 6\n",
      "i410,i420,i430,i440,i450,i460,i470,i480,file image_0481.jpg, label 7\n",
      "i490,i500,i510,i520,i530,i540,i550,i560,file image_0561.jpg, label 8\n",
      "i570,i580,i590,i600,i610,i620,i630,i640,file image_0641.jpg, label 9\n",
      "i650,i660,i670,i680,i690,i700,i710,i720,file image_0721.jpg, label 10\n",
      "i730,i740,i750,i760,i770,i780,i790,i800,file image_0801.jpg, label 11\n",
      "i810,i820,i830,i840,i850,i860,i870,i880,file image_0881.jpg, label 12\n",
      "i890,i900,i910,i920,i930,i940,i950,i960,file image_0961.jpg, label 13\n",
      "i970,i980,i990,i1000,i1010,i1020,i1030,i1040,file image_1041.jpg, label 14\n",
      "i1050,i1060,i1070,i1080,i1090,i1100,i1110,i1120,file image_1121.jpg, label 15\n",
      "i1130,i1140,i1150,i1160,i1170,i1180,i1190,i1200,file image_1201.jpg, label 16\n",
      "i1210,i1220,i1230,i1240,i1250,i1260,i1270,i1280,file image_1281.jpg, label 17\n",
      "i1290,i1300,i1310,i1320,i1330,i1340,i1350,[INFO] processed - 1359\n",
      "[INFO] completed label - 17\n",
      "1360\n"
     ]
    }
   ],
   "source": [
    "# path to training dataset\n",
    "train_files = os.listdir(train_path)\n",
    "\n",
    "# encode the labels\n",
    "#print(\"[INFO] encoding labels...\")\n",
    "#le = LabelEncoder()\n",
    "#le.fit([tl for tl in train_labels])\n",
    "\n",
    "# variables to hold features and labels\n",
    "features = [] # store feature data, x\n",
    "labels   = [] # store label data, y\n",
    "\n",
    "label = 0\n",
    "# loop over all the labels in the folder\n",
    "for i, file in enumerate(train_files):\n",
    "    img_path = train_path + \"/\" + file\n",
    "    if i %10 == 0:\n",
    "        print(' {}'.format(i), end=',')\n",
    "    if (i) % 80 == 0 :\n",
    "        label = label+1\n",
    "        print('\\n file {}, label {}'.format(file, label))    \n",
    "    img = image.load_img(img_path, target_size=image_size)\n",
    "    x = image.img_to_array(img)\n",
    "    x = np.expand_dims(x, axis=0)\n",
    "    x = preprocess_input(x)\n",
    "    feature = model.predict(x)\n",
    "    flat = feature.flatten()\n",
    "    features.append(flat)\n",
    "    labels.append(label)\n",
    "print(\"[INFO] processed - {}\".format(i))\n",
    "print( \"[INFO] completed label - {}\".format(label))\n",
    "print(len(labels))"
   ]
  },
  {
   "cell_type": "code",
   "execution_count": 8,
   "metadata": {},
   "outputs": [
    {
     "name": "stdout",
     "output_type": "stream",
     "text": [
      "[STATUS] training labels: [ 1  1  1 ..., 17 17 17]\n",
      "[STATUS] training labels shape: (1360,)\n",
      "[STATUS] saved model and weights to disk..\n",
      "[STATUS] features and labels saved..\n",
      "[STATUS] end time - 2017-11-16 13:07\n"
     ]
    }
   ],
   "source": [
    "# encode the labels using LabelEncoder\n",
    "targetNames = np.unique(labels)\n",
    "#le = LabelEncoder()\n",
    "#le_labels = le.fit_transform(labels)\n",
    "le_labels = np.array(labels)\n",
    "# get the shape of training labels\n",
    "print(\"[STATUS] training labels: {}\".format(le_labels))\n",
    "print(\"[STATUS] training labels shape: {}\".format(le_labels.shape))\n",
    "\n",
    "# save features and labels\n",
    "h5f_data = h5py.File(features_path, 'w')\n",
    "h5f_data.create_dataset('dataset_1', data=np.array(features))\n",
    "\n",
    "h5f_label = h5py.File(labels_path, 'w')\n",
    "h5f_label.create_dataset('dataset_1', data=np.array(le_labels))\n",
    "\n",
    "h5f_data.close()\n",
    "h5f_label.close()\n",
    "\n",
    "# save model and weights\n",
    "model_json = model.to_json()\n",
    "with open(model_path + str(test_size) + \".json\", \"w\") as json_file:\n",
    "    json_file.write(model_json)\n",
    "\n",
    "# save weights\n",
    "model.save_weights(model_path + str(test_size) + \".h5\")\n",
    "print(\"[STATUS] saved model and weights to disk..\")\n",
    "\n",
    "print(\"[STATUS] features and labels saved..\")\n",
    "\n",
    "# end time\n",
    "end = time.time()\n",
    "print(\"[STATUS] end time - {}\".format(datetime.datetime.now().strftime(\"%Y-%m-%d %H:%M\")))"
   ]
  },
  {
   "cell_type": "code",
   "execution_count": null,
   "metadata": {
    "collapsed": true
   },
   "outputs": [],
   "source": []
  }
 ],
 "metadata": {
  "anaconda-cloud": {},
  "kernelspec": {
   "display_name": "Python 3",
   "language": "python",
   "name": "python3"
  },
  "language_info": {
   "codemirror_mode": {
    "name": "ipython",
    "version": 3
   },
   "file_extension": ".py",
   "mimetype": "text/x-python",
   "name": "python",
   "nbconvert_exporter": "python",
   "pygments_lexer": "ipython3",
   "version": "3.6.3"
  }
 },
 "nbformat": 4,
 "nbformat_minor": 2
}
