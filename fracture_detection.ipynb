{
 "cells": [
  {
   "cell_type": "code",
   "execution_count": 1,
   "metadata": {},
   "outputs": [
    {
     "name": "stderr",
     "output_type": "stream",
     "text": [
      "Using TensorFlow backend.\n"
     ]
    }
   ],
   "source": [
    "from feature_extractor import get_base_model, get_model_by_layer, convert_img_to_feature\n",
    "from keras.preprocessing import image"
   ]
  },
  {
   "cell_type": "code",
   "execution_count": 2,
   "metadata": {
    "collapsed": true
   },
   "outputs": [],
   "source": [
    "import matplotlib.pyplot as plt\n",
    "import pickle \n",
    "%matplotlib inline\n",
    "import numpy as np"
   ]
  },
  {
   "cell_type": "code",
   "execution_count": 3,
   "metadata": {
    "collapsed": true
   },
   "outputs": [],
   "source": [
    "from sklearn.linear_model import LogisticRegression\n",
    "from sklearn.metrics import accuracy_score\n",
    "from sklearn.metrics import confusion_matrix\n",
    "from sklearn.model_selection import train_test_split\n",
    "from sklearn.model_selection import learning_curve\n",
    "from sklearn.model_selection import GridSearchCV\n",
    "import os\n",
    "import numpy as np\n",
    "import matplotlib.pyplot as plt\n",
    "import h5py\n",
    "from sklearn.ensemble import RandomForestClassifier as RandomForest\n",
    "import seaborn as sns"
   ]
  },
  {
   "cell_type": "code",
   "execution_count": 4,
   "metadata": {
    "collapsed": true
   },
   "outputs": [],
   "source": [
    "from xgboost import XGBClassifier"
   ]
  },
  {
   "cell_type": "code",
   "execution_count": 5,
   "metadata": {},
   "outputs": [
    {
     "name": "stdout",
     "output_type": "stream",
     "text": [
      "model name is: vgg16\n",
      "Using default image size: (224, 224). Can include top Dense Layer !!\n",
      "{'image_size': (224, 224), 'layer': 'block5_pool', 'den_layer': 'fc1', 'name': 'vgg16'}\n"
     ]
    }
   ],
   "source": [
    "base_model, model_select = get_base_model('vgg16',image_size=None, verbose=False)\n",
    "print(model_select)"
   ]
  },
  {
   "cell_type": "code",
   "execution_count": 6,
   "metadata": {},
   "outputs": [
    {
     "name": "stderr",
     "output_type": "stream",
     "text": [
      "C:\\Users\\hj5446\\Dropbox\\F_Disk\\1Research\\1_Experiement\\1_fracture_recognition\\git\\fracture_detection\\feature_extractor.py:71: UserWarning: Update your `Model` call to the Keras 2 API: `Model(inputs=Tensor(\"in..., outputs=Tensor(\"fc...)`\n",
      "  model = Model(input=base_model.input, output=base_model.get_layer(layer_name).output)\n"
     ]
    }
   ],
   "source": [
    "model = get_model_by_layer(base_model, layer_name='fc1')"
   ]
  },
  {
   "cell_type": "code",
   "execution_count": 7,
   "metadata": {
    "collapsed": true
   },
   "outputs": [],
   "source": [
    "def load_images(path, filename, verbose = 0):\n",
    "    image_size = model_select['image_size']\n",
    "    images = []\n",
    "    file = open(path+filename)\n",
    "    lines = file.readlines()\n",
    "    img_filenames = [line.rstrip('\\n') for line in lines] # get all image file names\n",
    "    \n",
    "    n_all = len(img_filenames)\n",
    "    n_unique = len(set(img_filenames))\n",
    "    if  n_all != n_unique:  \n",
    "        print('check duplicate orgin len {},  unique len {}'.format(n_all, n_unique))\n",
    "    \n",
    "    n_imgs = len(img_filenames)\n",
    "    print('No. of images {}'.format(n_imgs))\n",
    "    \n",
    "    for i, filename in enumerate(img_filenames):\n",
    "        img_path = path + filename\n",
    "        img = image.load_img(img_path, target_size=image_size) \n",
    "        images.append(img)\n",
    "        \n",
    "        # Print image\n",
    "        if verbose and i%verbose == 0 :\n",
    "            print(i,img_path)\n",
    "            plt.imshow(img)\n",
    "            plt.show()\n",
    "    return images\n",
    "\n",
    "def convert_imgs_to_features(images, label=0, verbose=0):\n",
    "    features = []\n",
    "    n_imgs = len(images)\n",
    "\n",
    "    # Get lables\n",
    "    if label == 0:\n",
    "        print('label 0, it is not fracture')\n",
    "        labels = np.zeros((n_imgs,1))\n",
    "    else:\n",
    "        print('label 1, it is fracture')\n",
    "        labels = np.ones((n_imgs,1))\n",
    "\n",
    "    # Get features\n",
    "    for i,img in enumerate(images):\n",
    "        feature = convert_img_to_feature(img, model=model)\n",
    "        features.append(feature)\n",
    "\n",
    "        if verbose and i%verbose ==0:\n",
    "            print(i, end=', ')\n",
    "\n",
    "    return features, labels"
   ]
  },
  {
   "cell_type": "code",
   "execution_count": 8,
   "metadata": {},
   "outputs": [
    {
     "name": "stdout",
     "output_type": "stream",
     "text": [
      "1143\n"
     ]
    }
   ],
   "source": [
    "if 0:\n",
    "    path_nf='dataset/fractures/nf/' \n",
    "    filename_nf='nf.txt'\n",
    "    images_nf = load_images(path_nf, filename_nf, verbose=600)\n",
    "    #pickle.dump(images_nf, open( \"dataset/fractures/images_nf.p\", \"wb\" ))\n",
    "if 1:\n",
    "    images_nf = pickle.load(open(\"dataset/fractures/images_nf.p\", 'rb'))\n",
    "    print(len(images_nf))"
   ]
  },
  {
   "cell_type": "code",
   "execution_count": 9,
   "metadata": {
    "scrolled": false
   },
   "outputs": [
    {
     "name": "stdout",
     "output_type": "stream",
     "text": [
      "954\n"
     ]
    }
   ],
   "source": [
    "if 0:\n",
    "    path_ff='dataset/fractures/ff_flip/' \n",
    "    filename_ff='ff.txt'\n",
    "    images_ff = load_images(path_ff, filename_ff, verbose=600)\n",
    "#pickle.dump(images_ff, open( \"dataset/fractures/images_ff.p\", \"wb\" ))\n",
    "if 1:\n",
    "    images_ff = pickle.load(open(\"dataset/fractures/images_ff.p\", 'rb'))\n",
    "    print(len(images_ff))"
   ]
  },
  {
   "cell_type": "code",
   "execution_count": 10,
   "metadata": {},
   "outputs": [
    {
     "name": "stdout",
     "output_type": "stream",
     "text": [
      "label 1, it is fracture\n",
      "0, 20, 40, 60, 80, 100, 120, 140, 160, 180, 200, 220, 240, 260, 280, 300, 320, 340, 360, 380, 400, 420, 440, 460, 480, 500, 520, 540, 560, 580, 600, 620, 640, 660, 680, 700, 720, 740, 760, 780, 800, 820, 840, 860, 880, 900, 920, 940, "
     ]
    }
   ],
   "source": [
    "features_ff, labels_ff  = convert_imgs_to_features(images_ff, label=1, verbose=20)"
   ]
  },
  {
   "cell_type": "code",
   "execution_count": 11,
   "metadata": {},
   "outputs": [
    {
     "name": "stdout",
     "output_type": "stream",
     "text": [
      "label 0, it is not fracture\n",
      "0, 20, 40, 60, 80, 100, 120, 140, 160, 180, 200, 220, 240, 260, 280, 300, 320, 340, 360, 380, 400, 420, 440, 460, 480, 500, 520, 540, 560, 580, 600, 620, 640, 660, 680, 700, 720, 740, 760, 780, 800, 820, 840, 860, 880, 900, 920, 940, 960, 980, 1000, 1020, 1040, 1060, 1080, 1100, 1120, 1140, "
     ]
    }
   ],
   "source": [
    "features_nf, labels_nf  = convert_imgs_to_features(images_nf, label=0, verbose=20)"
   ]
  },
  {
   "cell_type": "code",
   "execution_count": 12,
   "metadata": {},
   "outputs": [
    {
     "name": "stdout",
     "output_type": "stream",
     "text": [
      "1143 954 (2097, 4096) (2097,)\n"
     ]
    }
   ],
   "source": [
    "features_total = np.vstack(( np.array(features_nf), np.array(features_ff)) )\n",
    "labels_total = np.vstack((labels_nf, labels_ff)).ravel()\n",
    "print(len(features_nf), len(features_ff), features_total.shape, labels_total.shape)"
   ]
  },
  {
   "cell_type": "code",
   "execution_count": 13,
   "metadata": {},
   "outputs": [
    {
     "data": {
      "text/plain": [
       "0.94920634920634916"
      ]
     },
     "execution_count": 13,
     "metadata": {},
     "output_type": "execute_result"
    }
   ],
   "source": [
    "seed = 20\n",
    "features_np = np.array(features_total)\n",
    "labels_np = np.array(labels_total)\n",
    "(trainData, testData, trainLabels, testLabels) = train_test_split(features_np,\n",
    "                                                                  labels_np,\n",
    "                                                                  test_size=0.3, #test_size,\n",
    "                                                                  random_state=seed)\n",
    "model_LR = LogisticRegression(random_state=seed)\n",
    "model_LR.fit(trainData, trainLabels)\n",
    "testLabels_pre = model_LR.predict(testData)\n",
    "score_LR = accuracy_score(testLabels, testLabels_pre)\n",
    "score_LR"
   ]
  },
  {
   "cell_type": "code",
   "execution_count": null,
   "metadata": {
    "collapsed": true
   },
   "outputs": [],
   "source": [
    "for i,testlabel in enumerate(testLables):\n",
    "    if testlabel != "
   ]
  },
  {
   "cell_type": "markdown",
   "metadata": {},
   "source": [
    "### learning curve "
   ]
  },
  {
   "cell_type": "code",
   "execution_count": 78,
   "metadata": {
    "collapsed": true
   },
   "outputs": [],
   "source": [
    "train_sizes, train_scores, valid_scores = learning_curve(\\\n",
    "    LogisticRegression(random_state=seed), trainData, trainLabels, train_sizes=[0.2,0.4,0.6,0.8,1.0], cv=5)"
   ]
  },
  {
   "cell_type": "code",
   "execution_count": 79,
   "metadata": {},
   "outputs": [
    {
     "data": {
      "text/plain": [
       "<matplotlib.legend.Legend at 0x35406828>"
      ]
     },
     "execution_count": 79,
     "metadata": {},
     "output_type": "execute_result"
    },
    {
     "data": {
      "image/png": "[encoded data removed]",
      "text/plain": [
       "<matplotlib.figure.Figure at 0x353d60b8>"
      ]
     },
     "metadata": {},
     "output_type": "display_data"
    }
   ],
   "source": [
    "train_scores_mean = np.mean(train_scores, axis=1)\n",
    "train_scores_std = np.std(train_scores, axis=1)\n",
    "valid_scores_mean = np.mean(valid_scores, axis=1)\n",
    "valid_scores_std = np.std(valid_scores, axis=1)\n",
    "plt.plot(train_sizes, train_scores_mean, 'o-', color=\"r\",\n",
    "             label=\"Train score\")\n",
    "plt.plot(train_sizes, valid_scores_mean, 'o-', color=\"g\",\n",
    "             label=\"Valid score\")\n",
    "plt.legend()"
   ]
  },
  {
   "cell_type": "code",
   "execution_count": 63,
   "metadata": {},
   "outputs": [
    {
     "data": {
      "text/plain": [
       "GridSearchCV(cv=None, error_score='raise',\n",
       "       estimator=LogisticRegression(C=1.0, class_weight=None, dual=False, fit_intercept=True,\n",
       "          intercept_scaling=1, max_iter=100, multi_class='ovr', n_jobs=1,\n",
       "          penalty='l2', random_state=20, solver='liblinear', tol=0.0001,\n",
       "          verbose=0, warm_start=False),\n",
       "       fit_params=None, iid=True, n_jobs=1,\n",
       "       param_grid={'C': [0.001, 0.01, 0.1, 1, 10, 100, 1000]},\n",
       "       pre_dispatch='2*n_jobs', refit=True, return_train_score=True,\n",
       "       scoring=None, verbose=0)"
      ]
     },
     "execution_count": 63,
     "metadata": {},
     "output_type": "execute_result"
    }
   ],
   "source": [
    "param_grid = {'C': [0.001, 0.01, 0.1, 1, 10, 100, 1000] } #  \n",
    "clf = GridSearchCV(LogisticRegression(random_state=seed), param_grid, return_train_score=True)\n",
    "clf.fit(trainData, trainLabels)"
   ]
  },
  {
   "cell_type": "code",
   "execution_count": 69,
   "metadata": {},
   "outputs": [
    {
     "data": {
      "text/plain": [
       "<matplotlib.legend.Legend at 0x1cb0dba8>"
      ]
     },
     "execution_count": 69,
     "metadata": {},
     "output_type": "execute_result"
    },
    {
     "data": {
      "image/png": "[encoded data removed]",
      "text/plain": [
       "<matplotlib.figure.Figure at 0x1972dbe0>"
      ]
     },
     "metadata": {},
     "output_type": "display_data"
    }
   ],
   "source": [
    "clf_mean_train_score = clf.cv_results_['mean_train_score']\n",
    "clf_mean_test_score = clf.cv_results_['mean_test_score']\n",
    "plt.semilogx(param_grid['C'], clf_mean_train_score,'ro-',label='train')\n",
    "plt.semilogx(param_grid['C'], clf_mean_test_score,'go-',label='valid')\n",
    "plt.legend()"
   ]
  },
  {
   "cell_type": "code",
   "execution_count": null,
   "metadata": {
    "collapsed": true
   },
   "outputs": [],
   "source": []
  },
  {
   "cell_type": "code",
   "execution_count": 77,
   "metadata": {},
   "outputs": [
    {
     "data": {
      "text/plain": [
       "0.94444444444444442"
      ]
     },
     "execution_count": 77,
     "metadata": {},
     "output_type": "execute_result"
    }
   ],
   "source": [
    "model_xgb = XGBClassifier()\n",
    "#model.fit(X_train, y_train)\n",
    "model_xgb.fit(trainData, trainLabels)\n",
    "testLabels_pre = model_xgb.predict(testData)\n",
    "score_LR = accuracy_score(testLabels, testLabels_pre)\n",
    "score_LR"
   ]
  },
  {
   "cell_type": "code",
   "execution_count": null,
   "metadata": {
    "collapsed": true
   },
   "outputs": [],
   "source": [
    "def get_our_features(path, filename, label = 0, verbose = 0):\n",
    "    \"\"\"\n",
    "    \n",
    "    \n",
    "    \"\"\"\n",
    "\n",
    "    \n",
    "    # construc labels\n",
    "    if label== 0:\n",
    "        print('not fracture')\n",
    "        labels = np.zeros((n_imgs,1))\n",
    "    else:\n",
    "        print('fracture')\n",
    "        labels = np.ones((n_imgs,1))\n",
    "        \n",
    "    # extract features\n",
    "    for i, name in enumerate(img_names):\n",
    "        feature = None\n",
    "        img = image.load_img(img_path, target_size=model_select['image_size']) \n",
    "        \n",
    "        if verbose:\n",
    "            if i% 50 == 0:\n",
    "                print(i,end=' ,')\n",
    "            if i% 200 == 0:\n",
    "\n",
    "                #feature,img = convert_img_to_feature(path + name, model, return_img=True, verbose= True)\n",
    "                plt.imshow(img)\n",
    "                plt.show()\n",
    "        \n",
    "        else:\n",
    "            feature = convert_img_to_feature(path+name, model)    \n",
    "        features.append(feature)\n",
    "        \n",
    "    return features, labels"
   ]
  },
  {
   "cell_type": "code",
   "execution_count": null,
   "metadata": {
    "collapsed": true
   },
   "outputs": [],
   "source": [
    "feature_nonfrac, label_nonfrac = get_our_features(path='dataset/fractures/nf/', filename='nf.txt', label=0)\n",
    "#feature_frac,label_frac = get_our_features(path='dataset/fractures/ff_flip/', filename='ff.txt', label=1)"
   ]
  },
  {
   "cell_type": "code",
   "execution_count": null,
   "metadata": {
    "collapsed": true
   },
   "outputs": [],
   "source": [
    "feature_frac,label_frac = get_our_features(path='dataset/fractures/ff_flip/', filename='ff.txt', label=1)"
   ]
  },
  {
   "cell_type": "code",
   "execution_count": null,
   "metadata": {
    "collapsed": true
   },
   "outputs": [],
   "source": [
    "features_total = np.vstack(( np.array(feature_nonfrac), np.array(feature_frac)) )\n",
    "labels_total = np.vstack((label_nonfrac, label_frac))"
   ]
  },
  {
   "cell_type": "code",
   "execution_count": null,
   "metadata": {
    "collapsed": true
   },
   "outputs": [],
   "source": [
    "cm = confusion_matrix(testLabels, testLabels_pre)\n",
    "sns.heatmap(cm,\n",
    "            annot=True,\n",
    "            cmap=\"Set2\")\n",
    "plt.show()"
   ]
  },
  {
   "cell_type": "code",
   "execution_count": null,
   "metadata": {
    "collapsed": true
   },
   "outputs": [],
   "source": [
    "model_RF = RandomForest(n_estimators=100, random_state=seed)\n",
    "model_RF.fit(trainData, trainLabels)\n",
    "testLabels_pre = model_RF.predict(testData)\n",
    "score_RF = accuracy_score(testLabels, testLabels_pre)\n",
    "score_RF"
   ]
  },
  {
   "cell_type": "code",
   "execution_count": null,
   "metadata": {
    "collapsed": true
   },
   "outputs": [],
   "source": [
    "#path = 'dataset/fractures/nf'\n",
    "#train_files = os.listdir(path)\n",
    "features_nonfrac = []\n",
    "path_nonfrac = 'dataset/fractures/nf/'\n",
    "f = open(path_nonfrac+'nf.txt')\n",
    "lines = f.readlines()\n",
    "img_names_nonfrac = [line.rstrip('\\n') for line in lines]\n",
    "img_names_nonfrac[0]   \n",
    "print(len(img_names_nonfrac))\n",
    "for i,img_nonfrac in enumerate(img_names_nonfrac):\n",
    "    if i% 50 == 0:\n",
    "        print(i,end=' ,')\n",
    "    if i==0:\n",
    "        feature,img = convert_img_to_feature(path_nonfrac + img_names_nonfrac[0], model, return_img=True, verbose= True)\n",
    "    else:\n",
    "        feature = convert_img_to_feature(path_nonfrac + img_names_nonfrac[0], model)\n",
    "    features_nonfrac.append(feature)\n",
    "    \n",
    "#file_names = np.loadtxt()"
   ]
  },
  {
   "cell_type": "code",
   "execution_count": null,
   "metadata": {
    "collapsed": true
   },
   "outputs": [],
   "source": [
    "h5f_nonfrac = h5py.File('output/fractures/feature_nonfrac.h5', 'w')\n",
    "h5f_nonfrac.create_dataset('data', data=np.array(features_nonfrac))"
   ]
  },
  {
   "cell_type": "code",
   "execution_count": null,
   "metadata": {
    "collapsed": true
   },
   "outputs": [],
   "source": [
    "#path = 'dataset/fractures/nf'\n",
    "#train_files = os.listdir(path)\n",
    "features_frac = []\n",
    "path_frac = 'dataset/fractures/ff_flip/'\n",
    "f = open(path_frac+'ff.txt')\n",
    "lines = f.readlines()\n",
    "img_names_frac = [line.rstrip('\\n') for line in lines]\n",
    "img_names_frac[0]   \n",
    "print(len(img_names_frac))\n",
    "for i,img_frac in enumerate(img_names_frac):\n",
    "    if i% 50 == 0:\n",
    "        print(i,end=' ,')\n",
    "    if i==0:\n",
    "        feature,img = convert_img_to_feature(path_frac + img_names_frac[0], model, return_img=True, verbose= True)\n",
    "        plt.imshow(img)\n",
    "        plt.show()\n",
    "    else:\n",
    "        feature = convert_img_to_feature(path_frac + img_names_frac[0], model)\n",
    "    features_frac.append(feature)"
   ]
  },
  {
   "cell_type": "code",
   "execution_count": null,
   "metadata": {
    "collapsed": true
   },
   "outputs": [],
   "source": [
    "features_total = np.vstack(( np.array(features_nonfrac), np.array(features_frac)) )\n",
    "\n",
    "labels_nonfrac = np.zeros((len(img_names_nonfrac),1))\n",
    "labels_frac = np.ones((len(img_names_frac),1))\n",
    "labels_total = np.vstack((labels_nonfrac, labels_frac))\n",
    "labels_nonfrac[0], labels_frac[0], features_total.shape, labels_total.shape          "
   ]
  },
  {
   "cell_type": "code",
   "execution_count": null,
   "metadata": {
    "collapsed": true
   },
   "outputs": [],
   "source": [
    "h5f_frac = h5py.File('output/fractures/feature_frac.h5', 'w')\n",
    "h5f_frac.create_dataset('data', data=np.array(features_frac))\n"
   ]
  },
  {
   "cell_type": "code",
   "execution_count": null,
   "metadata": {
    "collapsed": true
   },
   "outputs": [],
   "source": [
    "h5f_frac = h5py.File('output/fractures/feature_frac.h5', 'r')\n",
    "features_frac_string = h5f_frac['data']\n",
    "features_test = np.array(features_frac_string)\n",
    "features_test.shape"
   ]
  },
  {
   "cell_type": "code",
   "execution_count": null,
   "metadata": {
    "collapsed": true
   },
   "outputs": [],
   "source": [
    "h5f_nonfrac = h5py.File('output/fractures/feature_nonfrac.h5', 'r')\n",
    "features_nonfrac_string = h5f_nonfrac['data']\n",
    "features_test = np.array(features_nonfrac_string)\n",
    "features_test.shape"
   ]
  },
  {
   "cell_type": "code",
   "execution_count": null,
   "metadata": {
    "collapsed": true
   },
   "outputs": [],
   "source": [
    "train_path = 'dataset/flowers_17'\n",
    "img_path = 'dataset/flowers_17/image_0001.jpg'\n",
    "features = [] # store feature data, x\n",
    "labels   = [] # store label data, y\n",
    "verbose = True\n",
    "# path to training dataset\n",
    "train_files = os.listdir(train_path)\n",
    "label = 0\n",
    "\n",
    "for i, file in enumerate(train_files):\n",
    "    if i > 240:\n",
    "        break\n",
    "    if verbose:\n",
    "        if i %10 == 0:\n",
    "            print(' {}'.format(i), end=',')\n",
    "        if (i) % 80 == 0 :\n",
    "            label = label+1\n",
    "            print('\\n file {}, label {}'.format(file, label))\n",
    "            \n",
    "    img_path = train_path + \"/\" + file   \n",
    "    feature = convert_img_to_feature(img_path, model)\n",
    "    features.append(feature)\n",
    "    labels.append(label)\n",
    "\n",
    "#plot_model(base_model)"
   ]
  },
  {
   "cell_type": "code",
   "execution_count": null,
   "metadata": {
    "collapsed": true
   },
   "outputs": [],
   "source": [
    "# filter warnings\n",
    "# load the user configs\n",
    "with open('conf/conf_vgg16.json') as f:    #resnet50\n",
    "    config = json.load(f)\n",
    "# config variables\n",
    "model_name = config[\"model\"]\n",
    "weights = config[\"weights\"]\n",
    "include_top = config[\"include_top\"]\n",
    "train_path = config[\"train_path\"]\n",
    "features_path = config[\"features_path\"]\n",
    "labels_path = config[\"labels_path\"]\n",
    "test_size = config[\"test_size\"]\n",
    "results = config[\"results\"]\n",
    "model_path = config[\"model_path\"]\n",
    "#weights_path = config[\"weights_path\"]\n",
    "print('model_name {}. features_path {}'.format(model_name, features_path))"
   ]
  },
  {
   "cell_type": "code",
   "execution_count": null,
   "metadata": {
    "collapsed": true
   },
   "outputs": [],
   "source": [
    "feature.shape"
   ]
  },
  {
   "cell_type": "code",
   "execution_count": null,
   "metadata": {
    "collapsed": true
   },
   "outputs": [],
   "source": []
  },
  {
   "cell_type": "code",
   "execution_count": null,
   "metadata": {
    "collapsed": true
   },
   "outputs": [],
   "source": [
    "# start time\n",
    "#print(\"[STATUS] start time - {}\".format(datetime.datetime.now().strftime(\"%Y-%m-%d %H:%M\")))\n",
    "#start = time.time()\n",
    "\n",
    "# create the pretrained models\n",
    "# check for pretrained weight usage or not\n",
    "# check for top layers to be included or not\n",
    "\n",
    "# select  \n",
    "if model_name == \"vgg16\":\n",
    "    # input width > 48\n",
    "    base_model = VGG16(weights=weights) # creat the VGG16 architecture model, include_top, the last (1-3) ANN layers\n",
    "    model = Model(input=base_model.input, output=base_model.get_layer('fc1').output)\n",
    "    image_size = (224, 224)\n",
    "elif model_name == \"vgg19\":\n",
    "    base_model = VGG19(weights=weights)\n",
    "    model = Model(input=base_model.input, output=base_model.get_layer('fc1').output)\n",
    "    image_size = (224, 224)\n",
    "elif model_name == \"resnet50\":\n",
    "    base_model = ResNet50(weights=weights)\n",
    "    model = Model(input=base_model.input, output=base_model.get_layer('flatten_1').output) #Flatten\n",
    "    image_size = (224, 224)\n",
    "elif model_name == \"inceptionv3\":\n",
    "    base_model = InceptionV3(weights=weights)\n",
    "    model = Model(input=base_model.input, output=base_model.get_layer('avg_pool').output) # this is correct\n",
    "    #model = Model(input=base_model.input, output=base_model.get_layer('Dense').output)\n",
    "    image_size = (299, 299)\n",
    "elif model_name == \"xception\":\n",
    "    base_model = Xception(weights=weights)\n",
    "    model = Model(input=base_model.input, output=base_model.get_layer('avg_pool').output)\n",
    "    image_size = (299, 299)\n",
    "elif model_name == \"InceptionResNetV2\":\n",
    "    base_model = Xception(weights=weights)\n",
    "    model = Model(input=base_model.input, output=base_model.get_layer('avg_pool').output)\n",
    "    image_size = (299, 299)\n",
    "else:\n",
    "    base_model = None\n",
    "\n",
    "print(\"[INFO] successfully loaded base model and model...\")"
   ]
  },
  {
   "cell_type": "code",
   "execution_count": null,
   "metadata": {
    "collapsed": true
   },
   "outputs": [],
   "source": [
    "# path to training dataset\n",
    "train_files = os.listdir(train_path)\n",
    "\n",
    "# encode the labels\n",
    "#print(\"[INFO] encoding labels...\")\n",
    "#le = LabelEncoder()\n",
    "#le.fit([tl for tl in train_labels])\n",
    "\n",
    "# variables to hold features and labels\n",
    "features = [] # store feature data, x\n",
    "labels   = [] # store label data, y\n",
    "\n",
    "label = 0\n",
    "# loop over all the labels in the folder\n",
    "for i, file in enumerate(train_files):\n",
    "    if i > 240:\n",
    "        break\n",
    "    img_path = train_path + \"/\" + file\n",
    "    if i %10 == 0:\n",
    "        print(' {}'.format(i), end=',')\n",
    "    if (i) % 80 == 0 :\n",
    "        label = label+1\n",
    "        print('\\n file {}, label {}'.format(file, label))\n",
    "     # if the target size is different size of image loaded image, will be interpolated  \n",
    "    img = image.load_img(img_path, target_size=image_size) \n",
    "    \n",
    "    x = image.img_to_array(img) # to numpy array\n",
    "    x = np.expand_dims(x, axis=0) # insert a new dimension at axis=0\n",
    "    x = preprocess_input(x) # process 4D tensor,\n",
    "    feature = model.predict(x)\n",
    "    flat = feature.flatten()\n",
    "    features.append(flat)\n",
    "    labels.append(label)"
   ]
  },
  {
   "cell_type": "code",
   "execution_count": null,
   "metadata": {
    "collapsed": true
   },
   "outputs": [],
   "source": [
    "\n",
    "# creat the VGG16 architecture model, include_top, the last (1-3) ANN layers\n",
    "#model = Model(input=base_model.input, output=base_model.get_layer('fc1').output)"
   ]
  },
  {
   "cell_type": "code",
   "execution_count": null,
   "metadata": {
    "collapsed": true
   },
   "outputs": [],
   "source": [
    "base_model.summary()"
   ]
  },
  {
   "cell_type": "code",
   "execution_count": null,
   "metadata": {
    "collapsed": true
   },
   "outputs": [],
   "source": [
    "train_files = os.listdir(train_path)\n",
    "img_path = train_path + \"/\" + train_files[0]\n",
    "image_size = (224, 224)\n",
    "img = image.load_img(img_path, target_size=image_size)\n",
    "x = image.img_to_array(img)\n",
    "x = np.expand_dims(x, axis=0) # insert a new dimension at axis=0\n",
    "x = preprocess_input(x) # process 4D tensor, normalize to between -1,1\n",
    "feature = model.predict(x)\n",
    "#print(x.shape, feature.shape)"
   ]
  },
  {
   "cell_type": "code",
   "execution_count": null,
   "metadata": {
    "collapsed": true
   },
   "outputs": [],
   "source": [
    "a = x_pre[0]/2 +0.5\n",
    "np.min(x),a.shape, np.max(a), np.min(a)"
   ]
  },
  {
   "cell_type": "code",
   "execution_count": null,
   "metadata": {
    "collapsed": true
   },
   "outputs": [],
   "source": [
    "#plt.imshow(img)\n",
    "#plt.show()\n",
    "plt.imshow(a)\n",
    "#plt.show()\n",
    "#plt.imshow(x_pre[0])\n",
    "plt.show()"
   ]
  },
  {
   "cell_type": "code",
   "execution_count": null,
   "metadata": {
    "collapsed": true
   },
   "outputs": [],
   "source": [
    "# path to training dataset\n",
    "train_files = os.listdir(train_path)\n",
    "\n",
    "# encode the labels\n",
    "#print(\"[INFO] encoding labels...\")\n",
    "#le = LabelEncoder()\n",
    "#le.fit([tl for tl in train_labels])\n",
    "\n",
    "# variables to hold features and labels\n",
    "features = [] # store feature data, x\n",
    "labels   = [] # store label data, y\n",
    "\n",
    "label = 0\n",
    "# loop over all the labels in the folder\n",
    "for i, file in enumerate(train_files):\n",
    "    img_path = train_path + \"/\" + file\n",
    "    if i %10 == 0:\n",
    "        print(' {}'.format(i), end=',')\n",
    "    if (i) % 80 == 0 :\n",
    "        label = label+1\n",
    "        print('\\n file {}, label {}'.format(file, label))\n",
    "     # if the target size is different size of image loaded image, will be interpolated  \n",
    "    img = image.load_img(img_path, target_size=image_size) \n",
    "    \n",
    "    x = image.img_to_array(img) # to numpy array\n",
    "    x = np.expand_dims(x, axis=0) # insert a new dimension at axis=0\n",
    "    x = preprocess_input(x) # process 4D tensor,\n",
    "    feature = model.predict(x)\n",
    "    flat = feature.flatten()\n",
    "    features.append(flat)\n",
    "    labels.append(label)\n",
    "print(\"[INFO] processed - {}\".format(i))\n",
    "print( \"[INFO] completed label - {}\".format(label))\n",
    "print(len(labels))"
   ]
  },
  {
   "cell_type": "code",
   "execution_count": null,
   "metadata": {
    "collapsed": true
   },
   "outputs": [],
   "source": [
    "# encode the labels using LabelEncoder\n",
    "targetNames = np.unique(labels)\n",
    "#le = LabelEncoder()\n",
    "#le_labels = le.fit_transform(labels)\n",
    "le_labels = np.array(labels)\n",
    "# get the shape of training labels\n",
    "print(\"[STATUS] training labels: {}\".format(le_labels))\n",
    "print(\"[STATUS] training labels shape: {}\".format(le_labels.shape))\n",
    "\n",
    "# save features and labels\n",
    "h5f_data = h5py.File(features_path, 'w')\n",
    "h5f_data.create_dataset('dataset_1', data=np.array(features))\n",
    "\n",
    "h5f_label = h5py.File(labels_path, 'w')\n",
    "h5f_label.create_dataset('dataset_1', data=np.array(le_labels))\n",
    "\n",
    "h5f_data.close()\n",
    "h5f_label.close()\n",
    "\n",
    "# save model and weights\n",
    "model_json = model.to_json()\n",
    "with open(model_path + str(test_size) + \".json\", \"w\") as json_file:\n",
    "    json_file.write(model_json)\n",
    "\n",
    "# save weights\n",
    "model.save_weights(model_path + str(test_size) + \".h5\")\n",
    "print(\"[STATUS] saved model and weights to disk..\")\n",
    "\n",
    "print(\"[STATUS] features and labels saved..\")\n",
    "\n",
    "# end time\n",
    "#end = time.time()\n",
    "#print(\"[STATUS] end time - {}\".format(datetime.datetime.now().strftime(\"%Y-%m-%d %H:%M\")))"
   ]
  },
  {
   "cell_type": "code",
   "execution_count": null,
   "metadata": {
    "collapsed": true
   },
   "outputs": [],
   "source": []
  }
 ],
 "metadata": {
  "anaconda-cloud": {},
  "kernelspec": {
   "display_name": "Python 3",
   "language": "python",
   "name": "python3"
  },
  "language_info": {
   "codemirror_mode": {
    "name": "ipython",
    "version": 3
   },
   "file_extension": ".py",
   "mimetype": "text/x-python",
   "name": "python",
   "nbconvert_exporter": "python",
   "pygments_lexer": "ipython3",
   "version": "3.6.3"
  }
 },
 "nbformat": 4,
 "nbformat_minor": 2
}
